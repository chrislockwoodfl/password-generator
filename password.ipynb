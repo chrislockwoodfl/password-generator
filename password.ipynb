{
 "cells": [
  {
   "cell_type": "code",
   "execution_count": 1,
   "id": "15311fd4-b4ba-4cb8-839f-abb43578c5c1",
   "metadata": {},
   "outputs": [
    {
     "name": "stdout",
     "output_type": "stream",
     "text": [
      "Welcome to the Password Generator!\n",
      "I will create a random password for you.\n"
     ]
    },
    {
     "name": "stdin",
     "output_type": "stream",
     "text": [
      "How many letters would you like in your password?\n",
      " 3\n",
      "How many symbols\n",
      " 4\n",
      "How many digits?\n",
      " 5\n"
     ]
    },
    {
     "name": "stdout",
     "output_type": "stream",
     "text": [
      "Your new password is N11#t%35X5*%\n"
     ]
    }
   ],
   "source": [
    "import random\n",
    "letters = ['a', 'b', 'c', 'd', 'e', 'f', 'g', 'h', 'i', 'j', 'k', 'l', 'm', 'n', 'o', 'p', 'q', 'r', 's', 't', 'u', 'v', 'w', 'x', 'y', 'z', 'A', 'B', 'C', 'D', 'E', 'F', 'G', 'H', 'I', 'J', 'K', 'L', 'M', 'N', 'O', 'P', 'Q', 'R', 'S', 'T', 'U', 'V', 'W', 'X', 'Y', 'Z']\n",
    "digits = ['0', '1', '2', '3', '4', '5', '6', '7', '8', '9']\n",
    "symbols = ['!', '#', '$', '%', '&', '(', ')', '*', '+']\n",
    "\n",
    "print(\"Welcome to the Password Generator!\\nI will create a random password for you.\")\n",
    "try:\n",
    "    num_letters = int(input(\"How many letters would you like in your password?\\n\"))\n",
    "except ValueError:\n",
    "    print(\"Please ender a va;id number\") \n",
    "    num_letters = 0   \n",
    "\n",
    "try:    \n",
    "    num_symbols = int(input(f\"How many symbols\\n\"))\n",
    "except ValueError:\n",
    "    print(\"Please ender a va;id number\") \n",
    "    num_symbols = 0   \n",
    "    \n",
    "try:    \n",
    "    num_digits = int(input(f\"How many digits?\\n\"))\n",
    "except ValueError:\n",
    "    print(\"Please ender a va;id number\") \n",
    "    num_digits = 0   \n",
    "\n",
    "# Create password with desired number of characters\n",
    "password = \"\"\n",
    "for i in range(num_letters):\n",
    "    j = random.randint(0, len(letters)-1)\n",
    "    password += letters[j]\n",
    "\n",
    "for i in range(num_symbols):\n",
    "    j = random.randint(0, len(symbols)-1)\n",
    "    password += symbols[j]\n",
    "\n",
    "for i in range(num_digits):\n",
    "    j = random.randint(0, len(digits)-1)\n",
    "    password += digits[j]\n",
    "\n",
    "#print(password)\n",
    "\n",
    "# Rearrange password characters in random order\n",
    "final_password = \"\"\n",
    "\n",
    "while len(password) > 0:\n",
    "    i = random.randint(0,len(password)-1)\n",
    "    #print(i)\n",
    "    final_password += password[i]\n",
    "    password = password.replace(password[i], \"\", 1)\n",
    "\n",
    "print(\"Your new password is \" + final_password)\n",
    "\n",
    "\n",
    "\n",
    "\n",
    "\n"
   ]
  },
  {
   "cell_type": "code",
   "execution_count": null,
   "id": "a6158b07-6192-4332-8b67-5a96e124c3a7",
   "metadata": {},
   "outputs": [],
   "source": []
  }
 ],
 "metadata": {
  "kernelspec": {
   "display_name": "Python 3 (ipykernel)",
   "language": "python",
   "name": "python3"
  },
  "language_info": {
   "codemirror_mode": {
    "name": "ipython",
    "version": 3
   },
   "file_extension": ".py",
   "mimetype": "text/x-python",
   "name": "python",
   "nbconvert_exporter": "python",
   "pygments_lexer": "ipython3",
   "version": "3.13.2"
  }
 },
 "nbformat": 4,
 "nbformat_minor": 5
}
